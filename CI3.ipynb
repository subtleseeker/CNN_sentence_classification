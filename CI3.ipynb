{
  "nbformat": 4,
  "nbformat_minor": 0,
  "metadata": {
    "colab": {
      "name": "CI3.ipynb",
      "provenance": []
    },
    "kernelspec": {
      "name": "python2",
      "display_name": "Python 2"
    },
    "accelerator": "GPU"
  },
  "cells": [
    {
      "cell_type": "code",
      "metadata": {
        "id": "XNvE-KDwniDg",
        "colab_type": "code",
        "outputId": "5d3dc823-0fd2-4de6-9eb3-8747d6465873",
        "colab": {
          "base_uri": "https://localhost:8080/",
          "height": 134
        }
      },
      "source": [
        "!git clone https://github.com/yoonkim/CNN_sentence\n",
        "%cd CNN_sentence\n",
        "!ls"
      ],
      "execution_count": 0,
      "outputs": [
        {
          "output_type": "stream",
          "text": [
            "Cloning into 'CNN_sentence'...\n",
            "remote: Enumerating objects: 62, done.\u001b[K\n",
            "Unpacking objects:   1% (1/62)   \rUnpacking objects:   3% (2/62)   \rUnpacking objects:   4% (3/62)   \rUnpacking objects:   6% (4/62)   \rUnpacking objects:   8% (5/62)   \rUnpacking objects:   9% (6/62)   \rUnpacking objects:  11% (7/62)   \rUnpacking objects:  12% (8/62)   \rUnpacking objects:  14% (9/62)   \rUnpacking objects:  16% (10/62)   \rUnpacking objects:  17% (11/62)   \rUnpacking objects:  19% (12/62)   \rUnpacking objects:  20% (13/62)   \rUnpacking objects:  22% (14/62)   \rUnpacking objects:  24% (15/62)   \rUnpacking objects:  25% (16/62)   \rUnpacking objects:  27% (17/62)   \rUnpacking objects:  29% (18/62)   \rUnpacking objects:  30% (19/62)   \rUnpacking objects:  32% (20/62)   \rUnpacking objects:  33% (21/62)   \rUnpacking objects:  35% (22/62)   \rUnpacking objects:  37% (23/62)   \rUnpacking objects:  38% (24/62)   \rUnpacking objects:  40% (25/62)   \rUnpacking objects:  41% (26/62)   \rUnpacking objects:  43% (27/62)   \rUnpacking objects:  45% (28/62)   \rremote: Total 62 (delta 0), reused 0 (delta 0), pack-reused 62\u001b[K\n",
            "Unpacking objects:  46% (29/62)   \rUnpacking objects:  48% (30/62)   \rUnpacking objects:  50% (31/62)   \rUnpacking objects:  51% (32/62)   \rUnpacking objects:  53% (33/62)   \rUnpacking objects:  54% (34/62)   \rUnpacking objects:  56% (35/62)   \rUnpacking objects:  58% (36/62)   \rUnpacking objects:  59% (37/62)   \rUnpacking objects:  61% (38/62)   \rUnpacking objects:  62% (39/62)   \rUnpacking objects:  64% (40/62)   \rUnpacking objects:  66% (41/62)   \rUnpacking objects:  67% (42/62)   \rUnpacking objects:  69% (43/62)   \rUnpacking objects:  70% (44/62)   \rUnpacking objects:  72% (45/62)   \rUnpacking objects:  74% (46/62)   \rUnpacking objects:  75% (47/62)   \rUnpacking objects:  77% (48/62)   \rUnpacking objects:  79% (49/62)   \rUnpacking objects:  80% (50/62)   \rUnpacking objects:  82% (51/62)   \rUnpacking objects:  83% (52/62)   \rUnpacking objects:  85% (53/62)   \rUnpacking objects:  87% (54/62)   \rUnpacking objects:  88% (55/62)   \rUnpacking objects:  90% (56/62)   \rUnpacking objects:  91% (57/62)   \rUnpacking objects:  93% (58/62)   \rUnpacking objects:  95% (59/62)   \rUnpacking objects:  96% (60/62)   \rUnpacking objects:  98% (61/62)   \rUnpacking objects: 100% (62/62)   \rUnpacking objects: 100% (62/62), done.\n",
            "/content/CNN_sentence\n",
            "conv_net_classes.py   process_data.py  rt-polarity.neg\n",
            "conv_net_sentence.py  README.md        rt-polarity.pos\n"
          ],
          "name": "stdout"
        }
      ]
    },
    {
      "cell_type": "code",
      "metadata": {
        "id": "c6Df3hT3oN4R",
        "colab_type": "code",
        "outputId": "33845d3a-2b42-484d-e96b-4efae911163a",
        "colab": {
          "base_uri": "https://localhost:8080/",
          "height": 121
        }
      },
      "source": [
        "from google.colab import drive\n",
        "drive.mount('/content/drive')"
      ],
      "execution_count": 0,
      "outputs": [
        {
          "output_type": "stream",
          "text": [
            "Go to this URL in a browser: https://accounts.google.com/o/oauth2/auth?client_id=947318989803-6bn6qk8qdgf4n4g3pfee6491hc0brc4i.apps.googleusercontent.com&redirect_uri=urn%3Aietf%3Awg%3Aoauth%3A2.0%3Aoob&scope=email%20https%3A%2F%2Fwww.googleapis.com%2Fauth%2Fdocs.test%20https%3A%2F%2Fwww.googleapis.com%2Fauth%2Fdrive%20https%3A%2F%2Fwww.googleapis.com%2Fauth%2Fdrive.photos.readonly%20https%3A%2F%2Fwww.googleapis.com%2Fauth%2Fpeopleapi.readonly&response_type=code\n",
            "\n",
            "Enter your authorization code:\n",
            "··········\n",
            "Mounted at /content/drive\n"
          ],
          "name": "stdout"
        }
      ]
    },
    {
      "cell_type": "code",
      "metadata": {
        "id": "2zV6GGVnoylW",
        "colab_type": "code",
        "outputId": "a05b0c39-4660-4792-9941-622b55910e10",
        "colab": {
          "base_uri": "https://localhost:8080/",
          "height": 67
        }
      },
      "source": [
        "# \"Save to my drive\" these in your google drive before executing this cell\n",
        "# https://drive.google.com/open?id=1YsZUoDNulojsObYbxgPRdBe2G9RfL4YP\n",
        "# https://drive.google.com/open?id=0B7XkCwpI5KDYNlNUTTlSS21pQmM\n",
        "# https://drive.google.com/open?id=1gsd4rVWI6CfAoXWNpstc_K3wYsaNZRxg\n",
        "\n",
        "!cp \"/content/drive/My Drive/GoogleNews-vectors-negative300.bin.gz\" .\n",
        "!gunzip -k GoogleNews-vectors-negative300.bin.gz\n",
        "!rm -r GoogleNews-vectors-negative300.bin.gz\n",
        "\n",
        "!rm -r conv_net_classes.py\n",
        "!cp \"/content/drive/My Drive/conv_net_classes.py\" .\n",
        "\n",
        "!rm -r conv_net_sentence.py\n",
        "!cp \"/content/drive/My Drive/conv_net_sentence.py\" .\n",
        "\n",
        "!ls"
      ],
      "execution_count": 0,
      "outputs": [
        {
          "output_type": "stream",
          "text": [
            "conv_net_classes.py\t\t    process_data.py  rt-polarity.pos\n",
            "conv_net_sentence.py\t\t    README.md\n",
            "GoogleNews-vectors-negative300.bin  rt-polarity.neg\n"
          ],
          "name": "stdout"
        }
      ]
    },
    {
      "cell_type": "code",
      "metadata": {
        "id": "H-2YwmkHq9qB",
        "colab_type": "code",
        "outputId": "52af0ccd-b4ce-46fe-97b7-358e9b9335fe",
        "colab": {
          "base_uri": "https://localhost:8080/",
          "height": 134
        }
      },
      "source": [
        "!python2 process_data.py GoogleNews-vectors-negative300.bin"
      ],
      "execution_count": 0,
      "outputs": [
        {
          "output_type": "stream",
          "text": [
            "loading data... data loaded!\n",
            "number of sentences: 10662\n",
            "vocab size: 18765\n",
            "max sentence length: 56\n",
            "loading word2vec vectors... word2vec loaded!\n",
            "num words already in word2vec: 16448\n",
            "dataset created!\n"
          ],
          "name": "stdout"
        }
      ]
    },
    {
      "cell_type": "code",
      "metadata": {
        "id": "un9tMV4qsbPF",
        "colab_type": "code",
        "outputId": "802a1c0b-9c7f-4715-a981-f07ee9cbb8ce",
        "colab": {
          "base_uri": "https://localhost:8080/",
          "height": 289
        }
      },
      "source": [
        "!THEANO_FLAGS=mode=FAST_RUN,device=cpu,floatX=float32 python conv_net_sentence.py -nonstatic -word2vec"
      ],
      "execution_count": 0,
      "outputs": [
        {
          "output_type": "stream",
          "text": [
            "loading data... data loaded!\n",
            "model architecture: CNN-non-static\n",
            "using: word2vec vectors\n",
            "[('image shape', 64, 300), ('filter shape', [(100, 1, 3, 300), (100, 1, 4, 300), (100, 1, 5, 300)]), ('hidden_units', [100, 2]), ('dropout', [0.5]), ('batch_size', 50), ('non_static', True), ('learn_decay', 0.95), ('conv_non_linear', 'relu'), ('non_static', True), ('sqr_norm_lim', 9), ('shuffle_batch', True)]\n",
            "WARNING (theano.tensor.blas): We did not find a dynamic library in the library_dir of the library we use for blas. If you use ATLAS, make sure to compile it with dynamics library.\n",
            "... training\n",
            "epoch: 1, training time: 284.91 secs, train perf: 81.12 %, val perf: 79.47 %\n",
            "epoch: 2, training time: 277.31 secs, train perf: 86.67 %, val perf: 80.21 %\n",
            "epoch: 3, training time: 272.31 secs, train perf: 91.92 %, val perf: 80.32 %\n",
            "epoch: 4, training time: 272.83 secs, train perf: 94.65 %, val perf: 79.58 %\n",
            "epoch: 5, training time: 279.27 secs, train perf: 98.02 %, val perf: 82.11 %\n",
            "epoch: 6, training time: 273.18 secs, train perf: 99.27 %, val perf: 80.84 %\n",
            "epoch: 7, training time: 273.50 secs, train perf: 99.61 %, val perf: 81.68 %\n",
            "cv: 0, perf: 0.8157407407407408\n",
            "0.8157407407407408\n"
          ],
          "name": "stdout"
        }
      ]
    },
    {
      "cell_type": "code",
      "metadata": {
        "id": "HlZVtRX1pHNV",
        "colab_type": "code",
        "colab": {}
      },
      "source": [
        ""
      ],
      "execution_count": 0,
      "outputs": []
    }
  ]
}